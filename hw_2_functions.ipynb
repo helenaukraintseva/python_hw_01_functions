{
 "cells": [
  {
   "cell_type": "markdown",
   "metadata": {},
   "source": [
    "### 1. Даны функции для сортировки массивов, которые работают за O(N^2): Пузырек и сортировка выбором, эмпирически определить, какая реализация быстрее и как зависит разница времени исполнения одного и другого от длины входного массива\n",
    "\n",
    "\n",
    "Как решать:\n",
    "\n",
    "    1) Генерируем случайный список чисел длины N и его точную копию\n",
    "\n",
    "    2) Сортируем первый пузырьком, второй - выбором, в обоих случаях засекаем время\n",
    "\n",
    "    3) Записываем время сортировки при длине N в списки.\n",
    "\n",
    "    4) Получаем зависимость разницы времени исполнения от длины\n",
    "\n",
    "    5) Готово, вы восхитительны.\n",
    "\n",
    "Чтобы повысить точность, для каждого N можно сгенерировать случайный список несколько раз и усреднить время."
   ]
  },
  {
   "cell_type": "code",
   "execution_count": 213,
   "metadata": {},
   "outputs": [],
   "source": [
    "def bubble_sort(nums):\n",
    "\n",
    "    # Устанавливаем swapped в True, чтобы цикл запустился хотя бы один раз\n",
    "    swapped = True\n",
    "\n",
    "    while swapped:\n",
    "        swapped = False\n",
    "\n",
    "        # Идем циклом по индексам наших элементов\n",
    "        for i in range(len(nums) - 1):\n",
    "        #print(nums)\n",
    "            # Если текущий элемент слева больше своего элемента справа\n",
    "            if nums[i] > nums[i + 1]:\n",
    "\n",
    "                # Меняем элементы местами\n",
    "                nums[i], nums[i + 1] = nums[i + 1], nums[i]\n",
    "\n",
    "                # Устанавливаем swapped в True для следующей итерации\n",
    "                swapped = True\n",
    "\n",
    "                # По окончании первого прогона цикла for\n",
    "                # самый большой элемент \"Всплывет\" наверх\n",
    "                \n",
    "                \n",
    "def selection_sort(nums):\n",
    "\n",
    "    # Значение i соответствует кол-ву отсортированных значений\n",
    "    for i in range(len(nums)):\n",
    "\n",
    "        # Исходно считаем наименьшим первый элемент\n",
    "        lowest_value_index = i\n",
    "\n",
    "        # Этот цикл перебирает несортированные элементы\n",
    "        for j in range(i + 1, len(nums)):\n",
    "            if nums[j] < nums[lowest_value_index]:\n",
    "                lowest_value_index = j\n",
    "\n",
    "        # Самый маленький элемент меняем с первым в списке\n",
    "        nums[i], nums[lowest_value_index] = nums[lowest_value_index], nums[i]\n",
    "\n"
   ]
  },
  {
   "cell_type": "code",
   "execution_count": 228,
   "metadata": {},
   "outputs": [
    {
     "name": "stdout",
     "output_type": "stream",
     "text": [
      "[2.1899992134422064e-05, 0.0013644999999087304, 0.1689145999844186, 15.53452039998956]\n",
      "[1.2399978004395962e-05, 0.0006253999890759587, 0.03151210001669824, 4.42925099999411]\n"
     ]
    },
    {
     "data": {
      "text/plain": [
       "<matplotlib.legend.Legend at 0x1558f58c460>"
      ]
     },
     "execution_count": 228,
     "metadata": {},
     "output_type": "execute_result"
    },
    {
     "data": {
      "image/png": "[encoded data removed]",
      "text/plain": [
       "<Figure size 640x480 with 1 Axes>"
      ]
     },
     "metadata": {},
     "output_type": "display_data"
    }
   ],
   "source": [
    "from random import randint\n",
    "import time\n",
    "\n",
    "arr1_time, arr2_time = [], []\n",
    "for n in (10, 100, 1000, 10000):\n",
    "    arr1 = [randint(1, 1000) for _ in range(n)]\n",
    "    arr2 = arr1.copy()\n",
    "\n",
    "    start = time.perf_counter()\n",
    "    bubble_sort(arr1)\n",
    "    arr1_time.append(time.perf_counter() - start)\n",
    "\n",
    "    start = time.perf_counter()\n",
    "    selection_sort(arr2)\n",
    "    arr2_time.append(time.perf_counter() - start)\n",
    "\n",
    "\n",
    "print(arr1_time)\n",
    "print(arr2_time)\n",
    "plt.plot(arr1_time, label = 'bubble_sort')\n",
    "plt.plot(arr2_time, label = 'selection_sort')\n",
    "plt.legend()"
   ]
  },
  {
   "cell_type": "markdown",
   "metadata": {},
   "source": [
    "### 2. [Алгоритм имитации отжига](https://machinelearningmastery.com/simulated-annealing-from-scratch-in-python/)\n",
    "\n",
    "Прочтите статью про алгоритм имитации отжига (я сдернул информацию по ссылке), это простейший не-градиентный алгоритм оптимизации функций(поиска экстремума)\n",
    "\n",
    "\n",
    "**Задание 1**\n",
    "\n",
    "Проверьте, как зависит скорость сходимости алгоритма для целевой функии вида $y = x^2$ от:\n",
    "\n",
    "1) начальной температуры\n",
    "\n",
    "2) размера шага алгоритма (попробуйте подомножать результаты randn на число и заменить нормальное распределение на равномерное)\n",
    "\n",
    "\n",
    "**Задание 2**\n",
    "\n",
    "Попробовать желательно, но не обязательно.\n",
    "\n",
    "Модифицируйте алгоритм так чтобы он работал для квадратичной функции от двух переменных $x^2 + y^2$ и , если возможно, от n переменных."
   ]
  },
  {
   "cell_type": "code",
   "execution_count": 215,
   "metadata": {},
   "outputs": [],
   "source": [
    "# simulated annealing search of a one-dimensional objective function\n",
    "import time\n",
    "import matplotlib.pyplot as plt\n",
    "from numpy import asarray\n",
    "from numpy import exp\n",
    "from numpy.random import randn\n",
    "from numpy.random import rand\n",
    "from numpy.random import seed\n",
    "\n",
    "# objective function\n",
    "def objective(x):\n",
    "        return sum(list(map(lambda a: a **2, x)))\n",
    "\n",
    "# simulated annealing algorithm\n",
    "def simulated_annealing(objective, bounds, n_iterations, step_size, temp):\n",
    "        # generate an initial point\n",
    "        best = bounds[:, 0] + rand(len(bounds)) * (bounds[:, 1] - bounds[:, 0])\n",
    "        # evaluate the initial point\n",
    "        best_eval = objective(best)\n",
    "        # current working solution\n",
    "        curr, curr_eval = best, best_eval\n",
    "        # run the algorithm\n",
    "        for i in range(n_iterations):\n",
    "            # take a step\n",
    "            candidate = curr + randn(len(bounds)) * step_size\n",
    "            # evaluate candidate point\n",
    "            candidate_eval = objective(candidate)\n",
    "            # check for new best solution\n",
    "            if candidate_eval < best_eval:\n",
    "                # store new best point\n",
    "                best, best_eval = candidate, candidate_eval\n",
    "                # report progress\n",
    "                print('>%d f(%s) = %.5f' % (i, best, best_eval))\n",
    "            # difference between candidate and current point evaluation\n",
    "            diff = candidate_eval - curr_eval\n",
    "            # calculate temperature for current epoch\n",
    "            t = temp / float(i + 1)\n",
    "            # calculate metropolis acceptance criterion\n",
    "            metropolis = exp(-diff / t)\n",
    "            # check if we should keep the new point\n",
    "            if diff < 0 or rand() < metropolis:\n",
    "                # store the new current point\n",
    "                curr, curr_eval = candidate, candidate_eval\n",
    "        return [best, best_eval]\n"
   ]
  },
  {
   "cell_type": "code",
   "execution_count": 216,
   "metadata": {},
   "outputs": [
    {
     "name": "stdout",
     "output_type": "stream",
     "text": [
      ">34 f([-0.78753544]) = 0.62021\n",
      ">35 f([-0.76914239]) = 0.59158\n",
      ">37 f([-0.68574854]) = 0.47025\n",
      ">39 f([-0.64797564]) = 0.41987\n",
      ">40 f([-0.58914623]) = 0.34709\n",
      ">41 f([-0.55446029]) = 0.30743\n",
      ">42 f([-0.41775702]) = 0.17452\n",
      ">43 f([-0.35038542]) = 0.12277\n",
      ">50 f([-0.15799045]) = 0.02496\n",
      ">66 f([-0.11089772]) = 0.01230\n",
      ">67 f([-0.09238208]) = 0.00853\n",
      ">72 f([-0.09145261]) = 0.00836\n",
      ">75 f([-0.05129162]) = 0.00263\n",
      ">93 f([-0.02854417]) = 0.00081\n",
      ">144 f([0.00864136]) = 0.00007\n",
      ">149 f([0.00753953]) = 0.00006\n",
      ">167 f([-0.00640394]) = 0.00004\n",
      ">225 f([-0.00044965]) = 0.00000\n",
      ">503 f([-0.00036261]) = 0.00000\n",
      ">512 f([0.00013605]) = 0.00000\n",
      "Done!\n",
      "f([0.00013605]) = 0.000000\n",
      ">43 f([-0.81546325]) = 0.66498\n",
      ">50 f([-0.75222455]) = 0.56584\n",
      ">66 f([-0.70513183]) = 0.49721\n",
      ">67 f([-0.68661619]) = 0.47144\n",
      ">72 f([-0.68568671]) = 0.47017\n",
      ">75 f([-0.64552573]) = 0.41670\n",
      ">95 f([-0.60847461]) = 0.37024\n",
      ">98 f([-0.57265577]) = 0.32793\n",
      ">100 f([-0.57060452]) = 0.32559\n",
      ">103 f([-0.37263784]) = 0.13886\n",
      ">105 f([-0.35974449]) = 0.12942\n",
      ">106 f([-0.27285588]) = 0.07445\n",
      ">107 f([-0.19781471]) = 0.03913\n",
      ">108 f([-0.14486818]) = 0.02099\n",
      ">109 f([-0.13109806]) = 0.01719\n",
      ">110 f([-0.12331595]) = 0.01521\n",
      ">111 f([-0.06147792]) = 0.00378\n",
      ">112 f([-0.03822846]) = 0.00146\n",
      ">113 f([0.03002668]) = 0.00090\n",
      ">114 f([-0.000985]) = 0.00000\n",
      "Done!\n",
      "f([-0.000985]) = 0.000001\n",
      ">43 f([-0.81546325]) = 0.66498\n",
      ">103 f([-0.72677869]) = 0.52821\n",
      ">105 f([-0.71388533]) = 0.50963\n",
      ">106 f([-0.62699672]) = 0.39312\n",
      ">107 f([-0.55195555]) = 0.30465\n",
      ">108 f([-0.49900902]) = 0.24901\n",
      ">109 f([-0.4852389]) = 0.23546\n",
      ">110 f([-0.47745679]) = 0.22796\n",
      ">111 f([-0.41561876]) = 0.17274\n",
      ">112 f([-0.39236931]) = 0.15395\n",
      ">113 f([-0.32411416]) = 0.10505\n",
      ">145 f([-0.2822721]) = 0.07968\n",
      ">146 f([-0.20117693]) = 0.04047\n",
      ">147 f([-0.09673272]) = 0.00936\n",
      ">149 f([-0.05441998]) = 0.00296\n",
      ">165 f([0.05178601]) = 0.00268\n",
      ">171 f([0.0427508]) = 0.00183\n",
      ">172 f([0.03070434]) = 0.00094\n",
      ">195 f([0.00327796]) = 0.00001\n",
      ">197 f([1.34877643e-05]) = 0.00000\n",
      "Done!\n",
      "f([1.34877643e-05]) = 0.000000\n",
      ">43 f([-0.81546325]) = 0.66498\n",
      ">103 f([-0.72677869]) = 0.52821\n",
      ">105 f([-0.71388533]) = 0.50963\n",
      ">106 f([-0.62699672]) = 0.39312\n",
      ">107 f([-0.55195555]) = 0.30465\n",
      ">108 f([-0.49900902]) = 0.24901\n",
      ">109 f([-0.4852389]) = 0.23546\n",
      ">110 f([-0.47745679]) = 0.22796\n",
      ">111 f([-0.41561876]) = 0.17274\n",
      ">112 f([-0.39236931]) = 0.15395\n",
      ">113 f([-0.32411416]) = 0.10505\n",
      ">145 f([-0.2822721]) = 0.07968\n",
      ">146 f([-0.20117693]) = 0.04047\n",
      ">147 f([-0.09673272]) = 0.00936\n",
      ">149 f([-0.05441998]) = 0.00296\n",
      ">165 f([0.05178601]) = 0.00268\n",
      ">171 f([0.0427508]) = 0.00183\n",
      ">172 f([0.03070434]) = 0.00094\n",
      ">195 f([0.00327796]) = 0.00001\n",
      ">197 f([1.34877643e-05]) = 0.00000\n",
      "Done!\n",
      "f([1.34877643e-05]) = 0.000000\n",
      ">43 f([-0.81546325]) = 0.66498\n",
      ">103 f([-0.72677869]) = 0.52821\n",
      ">105 f([-0.71388533]) = 0.50963\n",
      ">106 f([-0.62699672]) = 0.39312\n",
      ">107 f([-0.55195555]) = 0.30465\n",
      ">108 f([-0.49900902]) = 0.24901\n",
      ">109 f([-0.4852389]) = 0.23546\n",
      ">110 f([-0.47745679]) = 0.22796\n",
      ">111 f([-0.41561876]) = 0.17274\n",
      ">112 f([-0.39236931]) = 0.15395\n",
      ">113 f([-0.32411416]) = 0.10505\n",
      ">145 f([-0.2822721]) = 0.07968\n",
      ">146 f([-0.20117693]) = 0.04047\n",
      ">147 f([-0.09673272]) = 0.00936\n",
      ">149 f([-0.05441998]) = 0.00296\n",
      ">165 f([0.05178601]) = 0.00268\n",
      ">171 f([0.0427508]) = 0.00183\n",
      ">172 f([0.03070434]) = 0.00094\n",
      ">195 f([0.00327796]) = 0.00001\n",
      ">197 f([1.34877643e-05]) = 0.00000\n",
      "Done!\n",
      "f([1.34877643e-05]) = 0.000000\n"
     ]
    }
   ],
   "source": [
    "# Оценить скорость сходимости по времени от температуры\n",
    "res_temp = []\n",
    "for temp in (10, 100, 1000, 10000, 100000):\n",
    "        # seed the pseudorandom number generator\n",
    "        seed(1)\n",
    "        # define range for input\n",
    "        bounds = asarray([[-5.0, 5.0]])\n",
    "        # define the total iterations\n",
    "        n_iterations = 1000\n",
    "        # define the maximum step size\n",
    "        step_size = 0.1\n",
    "        # initial temperature\n",
    "        # temp = 200\n",
    "        # perform the simulated annealing search\n",
    "        start = time.perf_counter()\n",
    "        best, score = simulated_annealing(objective, bounds, n_iterations, step_size, temp)\n",
    "        res_temp.append(time.perf_counter() - start)\n",
    "        print('Done!')\n",
    "        print('f(%s) = %f' % (best, score))\n",
    "\n"
   ]
  },
  {
   "cell_type": "code",
   "execution_count": 217,
   "metadata": {},
   "outputs": [
    {
     "data": {
      "text/plain": [
       "[0.03202800001599826,\n",
       " 0.018673100013984367,\n",
       " 0.013023799983784556,\n",
       " 0.014059099979931489,\n",
       " 0.01869929998065345]"
      ]
     },
     "execution_count": 217,
     "metadata": {},
     "output_type": "execute_result"
    }
   ],
   "source": [
    "res_temp"
   ]
  },
  {
   "cell_type": "code",
   "execution_count": 225,
   "metadata": {},
   "outputs": [
    {
     "name": "stdout",
     "output_type": "stream",
     "text": [
      ">43 f([-0.82691661]) = 0.68379\n",
      ">103 f([-0.8091797]) = 0.65477\n",
      ">105 f([-0.80660103]) = 0.65061\n",
      ">106 f([-0.78922331]) = 0.62287\n",
      ">107 f([-0.77421507]) = 0.59941\n",
      ">108 f([-0.76362577]) = 0.58312\n",
      ">109 f([-0.76087174]) = 0.57893\n",
      ">110 f([-0.75931532]) = 0.57656\n",
      ">111 f([-0.74694771]) = 0.55793\n",
      ">112 f([-0.74229782]) = 0.55101\n",
      ">113 f([-0.7286468]) = 0.53093\n",
      ">145 f([-0.72027838]) = 0.51880\n",
      ">146 f([-0.70405935]) = 0.49570\n",
      ">147 f([-0.68317051]) = 0.46672\n",
      ">149 f([-0.67470796]) = 0.45523\n",
      ">165 f([-0.65346676]) = 0.42702\n",
      ">196 f([-0.63680942]) = 0.40553\n",
      ">197 f([-0.62755798]) = 0.39383\n",
      ">202 f([-0.60318339]) = 0.36383\n",
      ">231 f([-0.58722487]) = 0.34483\n",
      ">238 f([-0.57497302]) = 0.33059\n",
      ">240 f([-0.57489451]) = 0.33050\n",
      ">241 f([-0.55244794]) = 0.30520\n",
      ">244 f([-0.54549563]) = 0.29757\n",
      ">274 f([-0.52966858]) = 0.28055\n",
      ">303 f([-0.52566078]) = 0.27632\n",
      ">307 f([-0.50236755]) = 0.25237\n",
      ">309 f([-0.48005073]) = 0.23045\n",
      ">316 f([-0.47505778]) = 0.22568\n",
      ">317 f([-0.47336184]) = 0.22407\n",
      ">319 f([-0.44597586]) = 0.19889\n",
      ">320 f([-0.42303786]) = 0.17896\n",
      ">322 f([-0.39721123]) = 0.15778\n",
      ">323 f([-0.37418042]) = 0.14001\n",
      ">331 f([-0.37297557]) = 0.13911\n",
      ">392 f([-0.35971355]) = 0.12939\n",
      ">399 f([-0.35876321]) = 0.12871\n",
      ">445 f([-0.34081808]) = 0.11616\n",
      ">447 f([-0.32244135]) = 0.10397\n",
      ">503 f([-0.31911162]) = 0.10183\n",
      ">558 f([-0.30355825]) = 0.09215\n",
      ">560 f([-0.29898972]) = 0.08939\n",
      ">569 f([-0.27993762]) = 0.07837\n",
      ">570 f([-0.27528179]) = 0.07578\n",
      ">579 f([-0.26448278]) = 0.06995\n",
      ">590 f([-0.24219188]) = 0.05866\n",
      ">592 f([-0.22593164]) = 0.05105\n",
      ">593 f([-0.21589956]) = 0.04661\n",
      ">594 f([-0.19465135]) = 0.03789\n",
      ">611 f([-0.15147749]) = 0.02295\n",
      ">616 f([-0.13712192]) = 0.01880\n",
      ">618 f([-0.12378908]) = 0.01532\n",
      ">619 f([-0.11671774]) = 0.01362\n",
      ">620 f([-0.10442321]) = 0.01090\n",
      ">625 f([-0.09628758]) = 0.00927\n",
      ">627 f([-0.09243898]) = 0.00854\n",
      ">628 f([-0.05929649]) = 0.00352\n",
      ">629 f([-0.03094301]) = 0.00096\n",
      ">630 f([-0.02993666]) = 0.00090\n",
      ">631 f([-0.0169302]) = 0.00029\n",
      ">632 f([-0.00479923]) = 0.00002\n",
      ">651 f([-0.00230833]) = 0.00001\n",
      ">663 f([-0.00185476]) = 0.00000\n",
      ">720 f([0.00141526]) = 0.00000\n",
      ">721 f([0.00043809]) = 0.00000\n",
      "Done!\n",
      "f([0.00043809]) = 0.000000\n",
      ">43 f([-0.8226216]) = 0.67671\n",
      ">103 f([-0.77827932]) = 0.60572\n",
      ">105 f([-0.77183264]) = 0.59573\n",
      ">106 f([-0.72838834]) = 0.53055\n",
      ">107 f([-0.69086775]) = 0.47730\n",
      ">108 f([-0.66439449]) = 0.44142\n",
      ">109 f([-0.65750943]) = 0.43232\n",
      ">110 f([-0.65361837]) = 0.42722\n",
      ">111 f([-0.62269936]) = 0.38775\n",
      ">112 f([-0.61107463]) = 0.37341\n",
      ">113 f([-0.57694706]) = 0.33287\n",
      ">145 f([-0.55602602]) = 0.30916\n",
      ">146 f([-0.51547844]) = 0.26572\n",
      ">147 f([-0.46325634]) = 0.21461\n",
      ">149 f([-0.44209996]) = 0.19545\n",
      ">165 f([-0.38899697]) = 0.15132\n",
      ">196 f([-0.34735363]) = 0.12065\n",
      ">197 f([-0.32422503]) = 0.10512\n",
      ">202 f([-0.26328854]) = 0.06932\n",
      ">231 f([-0.22339224]) = 0.04990\n",
      ">238 f([-0.19276262]) = 0.03716\n",
      ">240 f([-0.19256634]) = 0.03708\n",
      ">241 f([-0.13644993]) = 0.01862\n",
      ">244 f([-0.11906915]) = 0.01418\n",
      ">274 f([-0.07950152]) = 0.00632\n",
      ">303 f([-0.06948201]) = 0.00483\n",
      ">307 f([-0.01124896]) = 0.00013\n",
      ">309 f([0.00565016]) = 0.00003\n",
      ">876 f([-0.002274]) = 0.00001\n",
      "Done!\n",
      "f([-0.002274]) = 0.000005\n",
      ">43 f([-0.81546325]) = 0.66498\n",
      ">103 f([-0.66290565]) = 0.43944\n",
      ">105 f([-0.65001229]) = 0.42252\n",
      ">106 f([-0.56312368]) = 0.31711\n",
      ">107 f([-0.48808251]) = 0.23822\n",
      ">108 f([-0.43513598]) = 0.18934\n",
      ">109 f([-0.42136586]) = 0.17755\n",
      ">110 f([-0.41358375]) = 0.17105\n",
      ">111 f([-0.35174572]) = 0.12373\n",
      ">112 f([-0.32849626]) = 0.10791\n",
      ">113 f([-0.26024112]) = 0.06773\n",
      ">145 f([-0.21839905]) = 0.04770\n",
      ">146 f([-0.13730389]) = 0.01885\n",
      ">147 f([-0.03285968]) = 0.00108\n",
      ">149 f([0.00945306]) = 0.00009\n",
      ">170 f([-0.00171873]) = 0.00000\n",
      ">360 f([-0.00012143]) = 0.00000\n",
      ">722 f([-5.66343129e-05]) = 0.00000\n",
      "Done!\n",
      "f([-5.66343129e-05]) = 0.000000\n",
      ">40 f([-0.56014458]) = 0.31376\n",
      ">41 f([-0.38671491]) = 0.14955\n",
      ">42 f([0.29680144]) = 0.08809\n",
      ">51 f([0.20074839]) = 0.04030\n",
      ">55 f([-0.13443175]) = 0.01807\n",
      ">57 f([0.09901071]) = 0.00980\n",
      ">58 f([-0.01215336]) = 0.00015\n",
      ">168 f([-0.00525069]) = 0.00003\n",
      ">221 f([0.0026474]) = 0.00001\n",
      ">484 f([0.00216895]) = 0.00000\n",
      "Done!\n",
      "f([0.00216895]) = 0.000005\n",
      ">17 f([-0.55645645]) = 0.30964\n",
      ">32 f([-0.18683593]) = 0.03491\n",
      ">33 f([-0.16394996]) = 0.02688\n",
      ">43 f([-0.04925332]) = 0.00243\n",
      ">48 f([0.0288384]) = 0.00083\n",
      ">185 f([0.00220643]) = 0.00000\n",
      ">332 f([-0.00059525]) = 0.00000\n",
      "Done!\n",
      "f([-0.00059525]) = 0.000000\n"
     ]
    }
   ],
   "source": [
    "res_iterations = []\n",
    "\n",
    "step_sizes = (0.02, 0.05, 0.1, 0.5, 1.0)\n",
    "for step_size in step_sizes:\n",
    "        # seed the pseudorandom number generator\n",
    "        seed(1)\n",
    "        # define range for input\n",
    "        bounds = asarray([[-5.0, 5.0]])\n",
    "        # define the total iterations\n",
    "        n_iterations = 1000\n",
    "        # define the maximum step size\n",
    "#         step_size = 0.1\n",
    "        # initial temperature\n",
    "        temp = 200\n",
    "        # perform the simulated annealing search\n",
    "        start = time.perf_counter()\n",
    "        best, score = simulated_annealing(objective, bounds, n_iterations, step_size, temp)\n",
    "        res_iterations.append(time.perf_counter() - start)\n",
    "        print('Done!')\n",
    "        print('f(%s) = %f' % (best, score))"
   ]
  },
  {
   "cell_type": "code",
   "execution_count": 226,
   "metadata": {},
   "outputs": [
    {
     "data": {
      "text/plain": [
       "[0.03460630000336096,\n",
       " 0.029157499986467883,\n",
       " 0.016336800006683916,\n",
       " 0.01179940000292845,\n",
       " 0.009072799992281944]"
      ]
     },
     "execution_count": 226,
     "metadata": {},
     "output_type": "execute_result"
    }
   ],
   "source": [
    "res_iterations"
   ]
  },
  {
   "cell_type": "code",
   "execution_count": 227,
   "metadata": {},
   "outputs": [
    {
     "data": {
      "text/plain": [
       "Text(0.5, 0, 'Скорость работы')"
      ]
     },
     "execution_count": 227,
     "metadata": {},
     "output_type": "execute_result"
    },
    {
     "data": {
      "image/png": "[encoded data removed]",
      "text/plain": [
       "<Figure size 640x480 with 1 Axes>"
      ]
     },
     "metadata": {},
     "output_type": "display_data"
    }
   ],
   "source": [
    "plt.plot(step_sizes, res_iterations)\n",
    "plt.title('Зависимость скорости работы от размера шага')\n",
    "plt.ylabel('Размер шага')\n",
    "plt.xlabel('Скорость работы')"
   ]
  },
  {
   "cell_type": "markdown",
   "metadata": {},
   "source": [
    "### 3. Подсчет слов\n",
    "Давайте теперь поработаем с настоящим файлом и действительно посчитаем в нем слова. Мы загрузим метаданные почтового сервера университета Мичигана. И попробуем **найти, с какого адреса ушло больше всего писем.**"
   ]
  },
  {
   "cell_type": "code",
   "execution_count": 3,
   "metadata": {},
   "outputs": [],
   "source": [
    "# импортируем библиотеку для доступа к файлам в интернете\n",
    "import requests\n",
    "# в переменной mbox хранится текст для работы\n",
    "mbox = requests.get('http://www.py4inf.com/code/mbox.txt').text"
   ]
  },
  {
   "cell_type": "code",
   "execution_count": 21,
   "metadata": {},
   "outputs": [],
   "source": [
    "mbox = mbox[5:]"
   ]
  },
  {
   "cell_type": "code",
   "execution_count": 22,
   "metadata": {},
   "outputs": [],
   "source": [
    "messeges = mbox.split('\\n\\n\\nFrom')"
   ]
  },
  {
   "cell_type": "code",
   "execution_count": 27,
   "metadata": {},
   "outputs": [],
   "source": [
    "from collections import defaultdict\n",
    "counter = defaultdict(int)\n",
    "\n",
    "for messege in messeges:\n",
    "    counter[messege.split()[0]] += 1"
   ]
  },
  {
   "cell_type": "code",
   "execution_count": 28,
   "metadata": {
    "scrolled": true
   },
   "outputs": [
    {
     "data": {
      "text/plain": [
       "defaultdict(int,\n",
       "            {'stephen.marquard@uct.ac.za': 29,\n",
       "             'louis@media.berkeley.edu': 24,\n",
       "             'zqian@umich.edu': 195,\n",
       "             'rjlowe@iupui.edu': 90,\n",
       "             'cwen@iupui.edu': 158,\n",
       "             'gsilver@umich.edu': 28,\n",
       "             'wagnermr@iupui.edu': 44,\n",
       "             'antranig@caret.cam.ac.uk': 18,\n",
       "             'gopal.ramasammycook@gmail.com': 25,\n",
       "             'david.horwitz@uct.ac.za': 67,\n",
       "             'ray@media.berkeley.edu': 32,\n",
       "             'mmmay@indiana.edu': 161,\n",
       "             'stuart.freeman@et.gatech.edu': 17,\n",
       "             'tnguyen@iupui.edu': 6,\n",
       "             'chmaurer@iupui.edu': 111,\n",
       "             'aaronz@vt.edu': 110,\n",
       "             'ian@caret.cam.ac.uk': 96,\n",
       "             'csev@umich.edu': 19,\n",
       "             'jimeng@umich.edu': 93,\n",
       "             'josrodri@iupui.edu': 28,\n",
       "             'knoop@umich.edu': 5,\n",
       "             'bkirschn@umich.edu': 27,\n",
       "             'dlhaines@umich.edu': 84,\n",
       "             'hu2@iupui.edu': 7,\n",
       "             'sgithens@caret.cam.ac.uk': 43,\n",
       "             'arwhyte@umich.edu': 27,\n",
       "             'gbhatnag@umich.edu': 3,\n",
       "             'gjthomas@iupui.edu': 44,\n",
       "             'a.fish@lancaster.ac.uk': 14,\n",
       "             'ajpoland@iupui.edu': 48,\n",
       "             'lance@indiana.edu': 8,\n",
       "             'ssmail@indiana.edu': 5,\n",
       "             'jlrenfro@ucdavis.edu': 1,\n",
       "             'nuno@ufp.pt': 28,\n",
       "             'zach.thomas@txstate.edu': 17,\n",
       "             'ktsao@stanford.edu': 12,\n",
       "             'ostermmg@whitman.edu': 17,\n",
       "             'john.ellis@rsmart.com': 8,\n",
       "             'jleasia@umich.edu': 2,\n",
       "             'ggolden@umich.edu': 8,\n",
       "             'thoppaymallika@fhda.edu': 1,\n",
       "             'kimsooil@bu.edu': 14,\n",
       "             'bahollad@indiana.edu': 4,\n",
       "             'jzaremba@unicon.net': 9,\n",
       "             'mbreuker@loi.nl': 9,\n",
       "             'colin.clark@utoronto.ca': 1})"
      ]
     },
     "execution_count": 28,
     "metadata": {},
     "output_type": "execute_result"
    }
   ],
   "source": [
    "counter"
   ]
  },
  {
   "cell_type": "code",
   "execution_count": 29,
   "metadata": {},
   "outputs": [
    {
     "data": {
      "text/plain": [
       "('zqian@umich.edu', 195)"
      ]
     },
     "execution_count": 29,
     "metadata": {},
     "output_type": "execute_result"
    }
   ],
   "source": [
    "max(counter, key=counter.get), counter[max(counter, key=counter.get)]"
   ]
  },
  {
   "cell_type": "markdown",
   "metadata": {},
   "source": [
    "### 4. Напишите функцию, которая переводит число, записанное римскими цифрами, в десятичное\n",
    "\n",
    "Символы для римских цифр:\n",
    "\n",
    "    I             1\n",
    "    V             5\n",
    "    X             10\n",
    "    L             50\n",
    "    C             100\n",
    "    D             500\n",
    "    M             1000\n",
    "\n",
    "\n",
    "Например, 2 записывается как II .\n",
    "\n",
    "12 записывается как XII, что просто X + II.\n",
    "\n",
    "Число 27 записывается как XXVII, что равно XX + V + II.\n",
    "\n",
    "Римские цифры обычно записываются от большего к меньшему слева направо. Однако символы для 4 не IIII. Вместо этого число четыре записывается как IV, потому что если I стоит перед V, мы \"вычитаем его\", получая тем самым четыре. Тот же принцип работает и для числа девять, которое записывается как IX. Существует шесть случаев, когда используется вычитание:\n",
    "\n",
    "    I может быть помещен перед V (5) и X (10) для получения 4 и 9.\n",
    "    X может быть помещен перед L (50) и C (100) для получения 40 и 90.\n",
    "    C может быть помещен перед D (500) и M (1000), чтобы получить 400 и 900."
   ]
  },
  {
   "cell_type": "code",
   "execution_count": 44,
   "metadata": {},
   "outputs": [],
   "source": [
    "roman = 'XII'\n",
    "trans = {'I': 1, 'V': 5, 'X': 10, 'L': 50, 'C': 100, 'D': 500, 'M': 1000}\n",
    "arabic = [trans[r] for r in roman]"
   ]
  },
  {
   "cell_type": "code",
   "execution_count": 46,
   "metadata": {},
   "outputs": [],
   "source": [
    "trans = {'I': 1, 'V': 5, 'X': 10, 'L': 50, 'C': 100, 'D': 500, 'M': 1000}\n",
    "def rom_to_arabic(roman):\n",
    "    arabic = [trans[r] for r in roman]\n",
    "    result = 0\n",
    "    for i in range(0, len(arabic) - 1):\n",
    "        if arabic[i] < arabic[i+1]:\n",
    "            result -= arabic[i]\n",
    "        else:\n",
    "            result += arabic[i]\n",
    "    result += arabic[-1]\n",
    "    return result"
   ]
  },
  {
   "cell_type": "code",
   "execution_count": 48,
   "metadata": {},
   "outputs": [],
   "source": [
    "# Проверка\n",
    "\n",
    "assert rom_to_arabic('XII') == 12\n",
    "assert rom_to_arabic('XXVII') == 27\n",
    "assert rom_to_arabic('IV') == 4\n",
    "assert rom_to_arabic('IX') == 9"
   ]
  },
  {
   "cell_type": "markdown",
   "metadata": {},
   "source": [
    "### 5. Напишите декоратор, который сначала выводит на печать имя вызываемой функции, затем делает паузу в 3 секунды, а затем вызывает функцию\n",
    "\n",
    "(Про имя вызываемой функции можно глянуть в лекции - там один из декораторов такое делал)"
   ]
  },
  {
   "cell_type": "code",
   "execution_count": 65,
   "metadata": {},
   "outputs": [],
   "source": [
    "import functools\n",
    "import time\n",
    "\n",
    "def wrapper(func):\n",
    "    @functools.wraps(func)\n",
    "    def wraps(*args, **kwargs):\n",
    "        print('func name is', func.__name__)\n",
    "        time.sleep(3)\n",
    "        return func(*args, **kwargs)\n",
    "    return wraps"
   ]
  },
  {
   "cell_type": "code",
   "execution_count": 66,
   "metadata": {},
   "outputs": [
    {
     "name": "stdout",
     "output_type": "stream",
     "text": [
      "func name is greeting\n",
      "hello asdsda\n"
     ]
    }
   ],
   "source": [
    "# Проверка\n",
    "@wrapper\n",
    "def greeting(name):\n",
    "    print(f'hello {name}')\n",
    "    \n",
    "greeting('asdsda')"
   ]
  },
  {
   "cell_type": "markdown",
   "metadata": {},
   "source": [
    "### 6. Функции ошибок\n",
    "\n",
    "В целом, машинное обучение часто сводится к минимизации какого-то функционала ошибки. Ваш алгоритм на обучающей выборке возвращает список предсказаний, который вы с помощью какого-то функционала сравниваете с правильными ответами и получаете некое значение (ошибку), которую нужно минимизировать. В этом задании необходимо реализовать ряд функционалов ошибок.\n",
    "\n",
    "\n",
    "## Пример - MSE"
   ]
  },
  {
   "cell_type": "code",
   "execution_count": 74,
   "metadata": {},
   "outputs": [],
   "source": [
    "from sklearn.metrics import mean_squared_error\n",
    "from sklearn.metrics import mean_absolute_percentage_error\n",
    "from sklearn.metrics import mean_absolute_error\n",
    "from sklearn.metrics import log_loss"
   ]
  },
  {
   "cell_type": "code",
   "execution_count": 77,
   "metadata": {},
   "outputs": [],
   "source": [
    "from typing import List\n",
    "import numpy as np\n",
    "\n",
    "def mse(prediction:List[float], \n",
    "        actual_values:List[float]) -> float:\n",
    "    '''\n",
    "    На вход приходят два списка равной длины\n",
    "    На выходе мы получаем среднеквадратичную ошибку\n",
    "    '''\n",
    "    assert len(prediction) == len(actual_values)\n",
    "    \n",
    "    N = len(prediction)\n",
    "    mse = sum((prediction[i] - actual_values[i])**2 for i in range(N))/N\n",
    "    \n",
    "    return mse"
   ]
  },
  {
   "cell_type": "code",
   "execution_count": 102,
   "metadata": {},
   "outputs": [],
   "source": [
    "a = [1,2,3,4,5]\n",
    "b = [1,2,3,10,6]\n",
    "\n",
    "assert mse(a,b) == mean_squared_error(a,b)"
   ]
  },
  {
   "cell_type": "markdown",
   "metadata": {},
   "source": [
    "Аналогичным образом реализуйте следующий список функций ошибок:\n",
    "\n",
    "    RMSE, LogLoss, HueberLoss, MAE, MAPE, sMAPE, log-cosh loss, quantile loss  :) \n",
    "\n",
    "Вопросы можно задавать"
   ]
  },
  {
   "cell_type": "code",
   "execution_count": 103,
   "metadata": {},
   "outputs": [],
   "source": [
    "def mae(prediction:List[float], \n",
    "        actual_values:List[float]) -> float:\n",
    "    \n",
    "    assert len(prediction) == len(actual_values)\n",
    "    \n",
    "    N = len(prediction)\n",
    "    mae = np.mean(np.abs(np.array(actual_values) - np.array(prediction)))\n",
    "    \n",
    "    return mae"
   ]
  },
  {
   "cell_type": "code",
   "execution_count": 104,
   "metadata": {},
   "outputs": [],
   "source": [
    "assert mae(a,b) == mean_absolute_error(a,b)"
   ]
  },
  {
   "cell_type": "code",
   "execution_count": 105,
   "metadata": {},
   "outputs": [],
   "source": [
    "def mape(prediction:List[float], \n",
    "        actual_values:List[float]) -> float:\n",
    "    \n",
    "    assert len(prediction) == len(actual_values)\n",
    "    \n",
    "    mape = np.mean(np.abs((np.array(actual_values) - np.array(prediction)) / np.array(actual_values)))\n",
    "    \n",
    "    return mape"
   ]
  },
  {
   "cell_type": "code",
   "execution_count": 106,
   "metadata": {},
   "outputs": [],
   "source": [
    "assert mape(a,b) == mean_absolute_percentage_error(b,a)"
   ]
  },
  {
   "cell_type": "code",
   "execution_count": 172,
   "metadata": {},
   "outputs": [],
   "source": [
    "def smape(prediction:List[float], \n",
    "        actual_values:List[float]) -> float:\n",
    "    \n",
    "    assert len(prediction) == len(actual_values)\n",
    "    \n",
    "    prediction = np.array(prediction)\n",
    "    actual_values = np.array(actual_values)\n",
    "    \n",
    "    smape = np.mean(2*np.abs(actual_values - prediction) / (np.abs(actual_values) + np.abs(prediction)))\n",
    "    \n",
    "    return smape"
   ]
  },
  {
   "cell_type": "code",
   "execution_count": 109,
   "metadata": {},
   "outputs": [],
   "source": [
    "def rmse(prediction:List[float], \n",
    "        actual_values:List[float]) -> float:\n",
    "    assert len(prediction) == len(actual_values)\n",
    "    \n",
    "    rmse = np.mean((np.array(actual_values) - np.array(prediction))**2)**(1/2)\n",
    "    \n",
    "    return rmse"
   ]
  },
  {
   "cell_type": "code",
   "execution_count": 110,
   "metadata": {},
   "outputs": [],
   "source": [
    "assert rmse(a,b) == mean_squared_error(a,b, squared=False)"
   ]
  },
  {
   "attachments": {
    "image.png": {
     "image/png": "[encoded data removed]"
    }
   },
   "cell_type": "markdown",
   "metadata": {},
   "source": [
    "![image.png](attachment:image.png)"
   ]
  },
  {
   "cell_type": "code",
   "execution_count": 195,
   "metadata": {},
   "outputs": [],
   "source": [
    "def HueberLoss(prediction:List[float], \n",
    "        actual_values:List[float],\n",
    "              thr:float=0.1) -> float:\n",
    "    \n",
    "    assert len(prediction) == len(actual_values)\n",
    "    \n",
    "    prediction = np.array(prediction)\n",
    "    actual_values = np.array(actual_values)\n",
    "    \n",
    "    linear_loss = np.abs(actual_values - prediction)\n",
    "    non_linear_loss = (actual_values - prediction)**2\n",
    "    \n",
    "    outliers = linear_loss > thr\n",
    "    \n",
    "    hueber_loss = np.mean(thr*(linear_loss - (1/2)*thr)*outliers + (1/2)*non_linear_loss*(1-outliers))\n",
    "\n",
    "    return hueber_loss"
   ]
  },
  {
   "cell_type": "code",
   "execution_count": 196,
   "metadata": {},
   "outputs": [],
   "source": [
    "assert 2*HueberLoss(a,b, 10) == mse(a,b)"
   ]
  },
  {
   "cell_type": "code",
   "execution_count": 197,
   "metadata": {},
   "outputs": [],
   "source": [
    "def log_cosh(prediction:List[float], \n",
    "        actual_values:List[float]) -> float:\n",
    "    \n",
    "    assert len(prediction) == len(actual_values)\n",
    "    \n",
    "    prediction = np.array(prediction)\n",
    "    actual_values = np.array(actual_values)\n",
    "    \n",
    "    log_cosh = np.mean(np.log(np.cosh(actual_values - prediction)))\n",
    "\n",
    "    return log_cosh"
   ]
  },
  {
   "cell_type": "code",
   "execution_count": 198,
   "metadata": {},
   "outputs": [
    {
     "data": {
      "text/plain": [
       "0.10976514202752093"
      ]
     },
     "execution_count": 198,
     "metadata": {},
     "output_type": "execute_result"
    }
   ],
   "source": [
    "log_cosh(a,b)"
   ]
  },
  {
   "attachments": {
    "image.png": {
     "image/png": "[encoded data removed]"
    }
   },
   "cell_type": "markdown",
   "metadata": {},
   "source": [
    "![image.png](attachment:image.png)"
   ]
  },
  {
   "cell_type": "code",
   "execution_count": 211,
   "metadata": {},
   "outputs": [],
   "source": [
    "def quantile_loss(prediction:List[float], \n",
    "        actual_values:List[float],\n",
    "              q:float=0.9) -> float:\n",
    "    \n",
    "    assert len(prediction) == len(actual_values)\n",
    "    \n",
    "    prediction = np.array(prediction)\n",
    "    actual_values = np.array(actual_values)\n",
    "    \n",
    "    quantile_loss = np.mean(np.maximum(q*(actual_values - prediction),\n",
    "                                       (1-q)*(prediction-actual_values)))\n",
    "\n",
    "    return quantile_loss"
   ]
  },
  {
   "cell_type": "code",
   "execution_count": 212,
   "metadata": {},
   "outputs": [
    {
     "data": {
      "text/plain": [
       "0.20400000000000001"
      ]
     },
     "execution_count": 212,
     "metadata": {},
     "output_type": "execute_result"
    }
   ],
   "source": [
    "quantile_loss(a,b, 0.6)"
   ]
  },
  {
   "cell_type": "markdown",
   "metadata": {},
   "source": [
    "#### classification loss"
   ]
  },
  {
   "cell_type": "code",
   "execution_count": 156,
   "metadata": {},
   "outputs": [],
   "source": [
    "a = [1,0,0,1,0]\n",
    "b = [0.2,0.4,0.6,0.9,0.1]"
   ]
  },
  {
   "cell_type": "code",
   "execution_count": 159,
   "metadata": {},
   "outputs": [],
   "source": [
    "def logloss(prediction:List[float], \n",
    "        actual_values:List[float]) -> float:\n",
    "    assert len(prediction) == len(actual_values)\n",
    "    \n",
    "    logloss = -np.mean((np.log(np.array(prediction)) * np.array(actual_values)) \n",
    "                       + (np.log(1-np.array(prediction)) * (1 - np.array(actual_values))))\n",
    "    \n",
    "    return logloss"
   ]
  },
  {
   "cell_type": "code",
   "execution_count": 160,
   "metadata": {},
   "outputs": [],
   "source": [
    "assert log_loss(a,b) == logloss(b,a)"
   ]
  }
 ],
 "metadata": {
  "kernelspec": {
   "display_name": "Python 3 (ipykernel)",
   "language": "python",
   "name": "python3"
  },
  "language_info": {
   "codemirror_mode": {
    "name": "ipython",
    "version": 3
   },
   "file_extension": ".py",
   "mimetype": "text/x-python",
   "name": "python",
   "nbconvert_exporter": "python",
   "pygments_lexer": "ipython3",
   "version": "3.9.13"
  }
 },
 "nbformat": 4,
 "nbformat_minor": 4
}
